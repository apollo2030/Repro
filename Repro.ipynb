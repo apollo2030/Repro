{
 "cells": [
  {
   "cell_type": "code",
   "execution_count": 2,
   "metadata": {},
   "outputs": [
    {
     "name": "stdout",
     "output_type": "stream",
     "text": [
      "Found 2 images.\n",
      "Found 1 images.\n",
      "2\n",
      "1\n",
      "1\n"
     ]
    }
   ],
   "source": [
    "from keras.preprocessing.image import ImageDataGenerator\n",
    "import pandas as pd\n",
    "\n",
    "driving = pd.read_csv('repro\\\\driving_log.csv')\n",
    "\n",
    "def get_data_generators(dataframe, training_split):\n",
    "    datagen = ImageDataGenerator(validation_split = 1 - training_split)\n",
    "    \n",
    "    params = {\n",
    "        'dataframe' : dataframe, \n",
    "        'directory' : \"repro\\\\IMG\", \n",
    "        'x_col' : \"center\", \n",
    "        'y_col' : \"steering_angle\", \n",
    "        'has_ext' : True, \n",
    "        'class_mode' : None, \n",
    "        'target_size' : (160, 320), \n",
    "        'batch_size' : 10,\n",
    "        'shuffle' : False,\n",
    "        }\n",
    "    \n",
    "    tr_generator = datagen.flow_from_dataframe(subset = \"training\", **params)\n",
    "    val_generator = datagen.flow_from_dataframe(subset = \"validation\", **params)\n",
    "    return tr_generator, val_generator\n",
    "\n",
    "training, validation = get_data_generators(driving, 0.666666)\n",
    "\n",
    "print(training.n)\n",
    "print(validation.n)\n",
    "\n",
    "print(len(driving.steering_angle))\n",
    "\n"
   ]
  },
  {
   "cell_type": "code",
   "execution_count": null,
   "metadata": {},
   "outputs": [],
   "source": []
  }
 ],
 "metadata": {
  "kernelspec": {
   "display_name": "Python 3",
   "language": "python",
   "name": "python3"
  },
  "language_info": {
   "codemirror_mode": {
    "name": "ipython",
    "version": 3
   },
   "file_extension": ".py",
   "mimetype": "text/x-python",
   "name": "python",
   "nbconvert_exporter": "python",
   "pygments_lexer": "ipython3",
   "version": "3.5.5"
  },
  "widgets": {
   "state": {},
   "version": "1.1.2"
  }
 },
 "nbformat": 4,
 "nbformat_minor": 2
}
